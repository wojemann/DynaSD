{
  "cells": [
    {
      "cell_type": "markdown",
      "metadata": {},
      "source": [
        "\n",
        "# Simulating Multiple Signals\n",
        "\n",
        "Simulate multiple signals together.\n"
      ]
    },
    {
      "cell_type": "code",
      "execution_count": null,
      "metadata": {
        "collapsed": false
      },
      "outputs": [],
      "source": [
        "from neurodsp.sim.update import SigIter\n",
        "from neurodsp.sim.aperiodic import sim_powerlaw\n",
        "from neurodsp.sim.multi import (sim_multiple, sim_from_sampler,\n",
        "                                sim_across_values, sim_multi_across_values)\n",
        "from neurodsp.sim.update import create_updater, create_sampler, ParamSampler\n",
        "from neurodsp.plts.time_series import plot_time_series, plot_multi_time_series\n",
        "from neurodsp.utils.data import create_times"
      ]
    },
    {
      "cell_type": "markdown",
      "metadata": {},
      "source": [
        "## Simulate Multiple Signals Together\n",
        "\n",
        "The :func:`~.sim_multiple` function can be used to simulate multiple signals\n",
        "from the same set of parameters.\n",
        "\n",
        "\n"
      ]
    },
    {
      "cell_type": "code",
      "execution_count": null,
      "metadata": {
        "collapsed": false
      },
      "outputs": [],
      "source": [
        "# Define a set of simulation parameters\n",
        "params = {'n_seconds' : 5, 'fs' : 250, 'exponent' : -1, 'f_range' : [0.5, None]}\n",
        "\n",
        "# Simulate multiple iterations from the same parameter definition\n",
        "sigs = sim_multiple(sim_powerlaw, params, 3)"
      ]
    },
    {
      "cell_type": "markdown",
      "metadata": {},
      "source": [
        "The output the above function is a :class:~.Simulations object that stores multiple\n",
        "simulated signals along with relevant metadata.\n",
        "\n",
        "\n"
      ]
    },
    {
      "cell_type": "code",
      "execution_count": null,
      "metadata": {
        "collapsed": false
      },
      "outputs": [],
      "source": [
        "# Check the metadata stored in the simulations object\n",
        "print(sigs.function, ':', sigs.params)"
      ]
    },
    {
      "cell_type": "code",
      "execution_count": null,
      "metadata": {
        "collapsed": false
      },
      "outputs": [],
      "source": [
        "# Create a times definition corresponding to the simulations\n",
        "times = create_times(params['n_seconds'], params['fs'])\n",
        "\n",
        "# Plot the simulated signals\n",
        "plot_multi_time_series(times, sigs)"
      ]
    },
    {
      "cell_type": "markdown",
      "metadata": {},
      "source": [
        "## SigIter\n",
        "\n",
        "In some cases, it may be useful to define a way to sample iterations from the same set of\n",
        "simulation parameters. To do so, we can use the :class:`~.SigIter` class.\n",
        "\n",
        "Using this class, we can define an object that stores the simulation function, the\n",
        "set of parameters, and optionally a number of simulations to create, and use this object\n",
        "to yield simulated signals.\n",
        "\n",
        "\n"
      ]
    },
    {
      "cell_type": "code",
      "execution_count": null,
      "metadata": {
        "collapsed": false
      },
      "outputs": [],
      "source": [
        "# Initialize a SigIter object\n",
        "sig_iter = SigIter(sim_powerlaw, params, 3)"
      ]
    },
    {
      "cell_type": "code",
      "execution_count": null,
      "metadata": {
        "collapsed": false
      },
      "outputs": [],
      "source": [
        "# Iterate with the object to create simulations\n",
        "for tsig in sig_iter:\n",
        "    plot_time_series(times, tsig)"
      ]
    },
    {
      "cell_type": "markdown",
      "metadata": {},
      "source": [
        "## Simulate From Sampler\n",
        "\n",
        "We can also use the :func:`~.sim_from_sampler` function to simulate signals,\n",
        "sampling parameter values from a sampler definition.\n",
        "\n",
        "\n"
      ]
    },
    {
      "cell_type": "code",
      "execution_count": null,
      "metadata": {
        "collapsed": false
      },
      "outputs": [],
      "source": [
        "# Define base set of parameters\n",
        "params = {'n_seconds' : 5, 'fs' : 250, 'exponent' : None}\n",
        "\n",
        "# Create an updater and sampler to sample from\n",
        "exp_sampler = {create_updater('exponent') : create_sampler([-2, -1, 0])}\n",
        "\n",
        "# Create a ParamSampler object\n",
        "sampler = ParamSampler(params, exp_sampler)"
      ]
    },
    {
      "cell_type": "code",
      "execution_count": null,
      "metadata": {
        "collapsed": false
      },
      "outputs": [],
      "source": [
        "# Simulate a set of signals from the defined sampler\n",
        "sampled_sims = sim_from_sampler(sim_powerlaw, sampler, 3)"
      ]
    },
    {
      "cell_type": "markdown",
      "metadata": {},
      "source": [
        "The output of the above is a :class:~.VariableSimulations object that stores simulations\n",
        "across variable simulation parameters, storing the simulated time series as well as the\n",
        "simulation parameters for each simulated signal.\n",
        "\n",
        "\n"
      ]
    },
    {
      "cell_type": "code",
      "execution_count": null,
      "metadata": {
        "collapsed": false
      },
      "outputs": [],
      "source": [
        "# Check some of the metadata stored in the VariableSimulations object\n",
        "print(sampled_sims.function)\n",
        "for paramdef in sampled_sims.params:\n",
        "    print(paramdef)"
      ]
    },
    {
      "cell_type": "code",
      "execution_count": null,
      "metadata": {
        "collapsed": false
      },
      "outputs": [],
      "source": [
        "# Plot the set of sampled simulations\n",
        "plot_multi_time_series(times, sampled_sims)"
      ]
    },
    {
      "cell_type": "markdown",
      "metadata": {},
      "source": [
        "## Simulate Across Values\n",
        "\n",
        "Sometimes we may want to simulate signals across a set defined range of parameter values.\n",
        "\n",
        "To do so, we can use the :func:`~.sim_across_values` function, which takes a definition of\n",
        "parameter values to simulate across.\n",
        "\n",
        "\n"
      ]
    },
    {
      "cell_type": "code",
      "execution_count": null,
      "metadata": {
        "collapsed": false
      },
      "outputs": [],
      "source": [
        "# Define a set of parameters, stepping across exponent values\n",
        "multi_params = [\n",
        "    {'n_seconds' : 5, 'fs' : 250, 'exponent' : -2},\n",
        "    {'n_seconds' : 5, 'fs' : 250, 'exponent' : -1},\n",
        "    {'n_seconds' : 5, 'fs' : 250, 'exponent' : -0},\n",
        "]\n",
        "\n",
        "# Simulate a set of signals\n",
        "sims_across_params = sim_across_values(sim_powerlaw, multi_params)"
      ]
    },
    {
      "cell_type": "markdown",
      "metadata": {},
      "source": [
        "The output of the above is a :class:~.VariableSimulations object that stores simulations\n",
        "across varying simulation parameters (same as with the sampled simulations).\n",
        "\n",
        "\n"
      ]
    },
    {
      "cell_type": "code",
      "execution_count": null,
      "metadata": {
        "collapsed": false
      },
      "outputs": [],
      "source": [
        "# Plot the simulated time series from sampled parameters\n",
        "plot_multi_time_series(times, sims_across_params)"
      ]
    },
    {
      "cell_type": "markdown",
      "metadata": {},
      "source": [
        "## Simulate Multiple Instances Across Values\n",
        "\n",
        "Finally, we may want to simulate multiple instances across a set of parameter definitions.\n",
        "\n",
        "To do so, we can use the :func:`~.sim_multi_across_values` function, which takes a set of\n",
        "parameter definitions and a number of simulations to create per definition.\n",
        "\n",
        "\n"
      ]
    },
    {
      "cell_type": "code",
      "execution_count": null,
      "metadata": {
        "collapsed": false
      },
      "outputs": [],
      "source": [
        "# Simulate a set of signals\n",
        "n_sims = 3\n",
        "sims_multi_across_params = sim_multi_across_values(sim_powerlaw, multi_params, n_sims)"
      ]
    },
    {
      "cell_type": "markdown",
      "metadata": {},
      "source": [
        "The output of the above is a :class:~.MultiSimulations object that stores sets of simulations\n",
        "across different parameters, and relevant metadata. Each set of simulations is stored within\n",
        "this object as a :class:~.Simulations object.\n",
        "\n",
        "\n"
      ]
    },
    {
      "cell_type": "code",
      "execution_count": null,
      "metadata": {
        "collapsed": false
      },
      "outputs": [],
      "source": [
        "# The length of the object is the number of parameter sets\n",
        "print('# of sets of signals:', len(sims_across_params))"
      ]
    },
    {
      "cell_type": "markdown",
      "metadata": {},
      "source": [
        "In the above, we created a set of parameters per definition, which by default are returned\n",
        "in a dictionary.\n",
        "\n",
        "\n"
      ]
    },
    {
      "cell_type": "code",
      "execution_count": null,
      "metadata": {
        "collapsed": false
      },
      "outputs": [],
      "source": [
        "# Plot the simulated signals, accessing signals from each simulation definition\n",
        "plot_multi_time_series(None, sims_across_params[0])\n",
        "plot_multi_time_series(None, sims_across_params[1])\n",
        "plot_multi_time_series(None, sims_across_params[2])"
      ]
    }
  ],
  "metadata": {
    "kernelspec": {
      "display_name": "dynasd_env",
      "language": "python",
      "name": "python3"
    },
    "language_info": {
      "codemirror_mode": {
        "name": "ipython",
        "version": 3
      },
      "file_extension": ".py",
      "mimetype": "text/x-python",
      "name": "python",
      "nbconvert_exporter": "python",
      "pygments_lexer": "ipython3",
      "version": "3.13.2"
    }
  },
  "nbformat": 4,
  "nbformat_minor": 0
}
